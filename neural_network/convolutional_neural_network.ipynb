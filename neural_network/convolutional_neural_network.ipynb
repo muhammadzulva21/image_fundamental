{
  "nbformat": 4,
  "nbformat_minor": 0,
  "metadata": {
    "colab": {
      "name": "convolutional_neural_network.ipynb",
      "provenance": [],
      "include_colab_link": true
    },
    "kernelspec": {
      "name": "python3",
      "display_name": "Python 3"
    },
    "language_info": {
      "name": "python"
    }
  },
  "cells": [
    {
      "cell_type": "markdown",
      "metadata": {
        "id": "view-in-github",
        "colab_type": "text"
      },
      "source": [
        "<a href=\"https://colab.research.google.com/github/muhammadzulva21/image_fundamental/blob/main/neural_network/convolutional_neural_network.ipynb\" target=\"_parent\"><img src=\"https://colab.research.google.com/assets/colab-badge.svg\" alt=\"Open In Colab\"/></a>"
      ]
    },
    {
      "cell_type": "code",
      "source": [
        "from google.colab import drive\n",
        "drive.mount('/content/drive')"
      ],
      "metadata": {
        "colab": {
          "base_uri": "https://localhost:8080/"
        },
        "id": "sGoXrZslq30H",
        "outputId": "9dc0604c-f141-441b-ba53-83f8ba3c9852"
      },
      "execution_count": 1,
      "outputs": [
        {
          "output_type": "stream",
          "name": "stdout",
          "text": [
            "Mounted at /content/drive\n"
          ]
        }
      ]
    },
    {
      "cell_type": "code",
      "metadata": {
        "id": "y9L_1kqnEEjc"
      },
      "source": [
        "import os\n",
        "\n",
        "# Definisikan path untuk data train dan data validation\n",
        "\n",
        "base_dir = '/content/drive/MyDrive/Daun Sawit'\n",
        "\n",
        "bercak_dir = os.path.join(base_dir, 'bercak')\n",
        "normal_dir = os.path.join(base_dir, 'normal')\n",
        "\n",
        "train_normal_dir = os.path.join(normal_dir, 'train')\n",
        "train_bercak_dir = os.path.join(bercak_dir, 'train')\n",
        "\n",
        "validasi_normal_dir = os.path.join(normal_dir, 'validasi')\n",
        "validasi_bercak_dir = os.path.join(bercak_dir, 'validasi')"
      ],
      "execution_count": 11,
      "outputs": []
    },
    {
      "cell_type": "code",
      "metadata": {
        "id": "9gc0BCSREF0M",
        "colab": {
          "base_uri": "https://localhost:8080/"
        },
        "outputId": "b43a561f-b5f0-45c4-b0fb-c933323c8e1f"
      },
      "source": [
        "import cv2\n",
        "import numpy as np\n",
        "\n",
        "# Gather data train\n",
        "train_data = []\n",
        "train_label = []\n",
        "for r, d, f in os.walk(train_normal_dir):\n",
        "    for file in f:\n",
        "        print(file)\n",
        "        if \".jpg\" in file:\n",
        "            imagePath = os.path.join(r, file)\n",
        "            image = cv2.imread(imagePath)\n",
        "            image = cv2.resize(image, (150,150))\n",
        "            train_data.append(image)\n",
        "            label = imagePath.split(os.path.sep)[-3]\n",
        "            train_label.append(label)\n",
        "\n",
        "\n",
        "for r, d, f in os.walk(train_bercak_dir):\n",
        "    for file in f:\n",
        "        print(file)\n",
        "        if \".jpg\" in file:\n",
        "            imagePath = os.path.join(r, file)\n",
        "            image = cv2.imread(imagePath)\n",
        "            image = cv2.resize(image, (150,150))\n",
        "            train_data.append(image)\n",
        "            label = imagePath.split(os.path.sep)[-3]\n",
        "            train_label.append(label)\n",
        "\n",
        "train_data = np.array(train_data)\n",
        "train_label = np.array(train_label)"
      ],
      "execution_count": 27,
      "outputs": [
        {
          "output_type": "stream",
          "name": "stdout",
          "text": [
            "Normal 6.jpg\n",
            "Normal 3.jpg\n",
            "Normal 11.jpg\n",
            "Normal 7.jpg\n",
            "Normal 14.jpg\n",
            "Normal 15.jpg\n",
            "Normal 2.jpg\n",
            "Normal 5.jpg\n",
            "Normal 12.jpg\n",
            "Normal 8.jpg\n",
            "Normal 4.jpg\n",
            "Normal 13.jpg\n",
            "Normal 10.jpg\n",
            "Normal 1.jpg\n",
            "Normal 9.jpg\n",
            "Bercak 83.jpg\n",
            "Bercak 31.jpg\n",
            "Bercak 165.jpg\n",
            "Bercak 25.jpg\n",
            "Bercak 72.jpg\n",
            "Bercak 184.jpg\n",
            "Bercak 46.jpg\n",
            "Bercak 113.jpg\n",
            "Bercak 61.jpg\n",
            "Bercak 180.jpg\n",
            "Bercak 59.jpg\n",
            "Bercak 133.jpg\n",
            "Bercak 195.jpg\n",
            "Bercak 145.jpg\n",
            "Bercak 92.jpg\n",
            "Bercak 101.jpg\n",
            "Bercak 193.jpg\n",
            "Bercak 89.jpg\n",
            "Bercak 110.jpg\n",
            "Bercak 3.jpg\n",
            "Bercak 215.jpg\n",
            "Bercak 155.jpg\n",
            "Bercak 30.jpg\n",
            "Bercak 13.jpg\n",
            "Bercak 112.jpg\n",
            "Bercak 169.jpg\n",
            "Bercak 86.jpg\n",
            "Bercak 194.jpg\n",
            "Bercak 95.jpg\n",
            "Bercak 148.jpg\n",
            "Bercak 8.jpg\n",
            "Bercak 176.jpg\n",
            "Bercak 118.jpg\n",
            "Bercak 6.jpg\n",
            "Bercak 141.jpg\n",
            "Bercak 151.jpg\n",
            "Bercak 50.jpg\n",
            "Bercak 115.jpg\n",
            "Bercak 75.jpg\n",
            "Bercak 154.jpg\n",
            "Bercak 171.jpg\n",
            "Bercak 76.jpg\n",
            "Bercak 63.jpg\n",
            "Bercak 221.jpg\n",
            "Bercak 117.jpg\n",
            "Bercak 219.jpg\n",
            "Bercak 93.jpg\n",
            "Bercak 144.jpg\n",
            "Bercak 190.jpg\n",
            "Bercak 106.jpg\n",
            "Bercak 41.jpg\n",
            "Bercak 132.jpg\n",
            "Bercak 212.jpg\n",
            "Bercak 77.jpg\n",
            "Bercak 91.jpg\n",
            "Bercak 73.jpg\n",
            "Bercak 183.jpg\n",
            "Bercak 2.jpg\n",
            "Bercak 87.jpg\n",
            "Bercak 98.jpg\n",
            "Bercak 12.jpg\n",
            "Bercak 186.jpg\n",
            "Bercak 199.jpg\n",
            "Bercak 206.jpg\n",
            "Bercak 21.jpg\n",
            "Bercak 10.jpg\n",
            "Bercak 11.jpg\n",
            "Bercak 96.jpg\n",
            "Bercak 188.jpg\n",
            "Bercak 27.jpg\n",
            "Bercak 205.jpg\n",
            "Bercak 157.jpg\n",
            "Bercak 84.jpg\n",
            "Bercak 67.jpg\n",
            "Bercak 100.jpg\n",
            "Bercak 51.jpg\n",
            "Bercak 178.jpg\n",
            "Bercak 201.jpg\n",
            "Bercak 172.jpg\n",
            "Bercak 197.jpg\n",
            "Bercak 24.jpg\n",
            "Bercak 58.jpg\n",
            "Bercak 42.jpg\n",
            "Bercak 142.jpg\n",
            "Bercak 55.jpg\n",
            "Bercak 134.jpg\n",
            "Bercak 103.jpg\n",
            "Bercak 135.jpg\n",
            "Bercak 211.jpg\n",
            "Bercak 66.jpg\n",
            "Bercak 70.jpg\n",
            "Bercak 99.jpg\n",
            "Bercak 5.jpg\n",
            "Bercak 54.jpg\n",
            "Bercak 139.jpg\n",
            "Bercak 16.jpg\n",
            "Bercak 65.jpg\n",
            "Bercak 26.jpg\n",
            "Bercak 181.jpg\n",
            "Bercak 37.jpg\n",
            "Bercak 146.jpg\n",
            "Bercak 162.jpg\n",
            "Bercak 97.jpg\n",
            "Bercak 140.jpg\n",
            "Bercak 80.jpg\n",
            "Bercak 111.jpg\n",
            "Bercak 218.jpg\n",
            "Bercak 107.jpg\n",
            "Bercak 19.jpg\n",
            "Bercak 122.jpg\n",
            "Bercak 4.jpg\n",
            "Bercak 200.jpg\n",
            "Bercak 94.jpg\n",
            "Bercak 14.jpg\n",
            "Bercak 29.jpg\n",
            "Bercak 69.jpg\n",
            "Bercak 216.jpg\n",
            "Bercak 192.jpg\n",
            "Bercak 175.jpg\n",
            "Bercak 125.jpg\n",
            "Bercak 35.jpg\n",
            "Bercak 18.jpg\n",
            "Bercak 7.jpg\n",
            "Bercak 23.jpg\n",
            "Bercak 120.jpg\n",
            "Bercak 44.jpg\n",
            "Bercak 207.jpg\n",
            "Bercak 28.jpg\n",
            "Bercak 217.jpg\n",
            "Bercak 116.jpg\n",
            "Bercak 40.jpg\n",
            "Bercak 15.jpg\n",
            "Bercak 88.jpg\n",
            "Bercak 17.jpg\n",
            "Bercak 36.jpg\n",
            "Bercak 47.jpg\n",
            "Bercak 48.jpg\n",
            "Bercak 38.jpg\n",
            "Bercak 214.jpg\n",
            "Bercak 121.jpg\n",
            "Bercak 225.jpg\n",
            "Bercak 182.jpg\n",
            "Bercak 74.jpg\n",
            "Bercak 177.jpg\n",
            "Bercak 45.jpg\n",
            "Bercak 203.jpg\n",
            "Bercak 136.jpg\n",
            "Bercak 222.jpg\n",
            "Bercak 153.jpg\n",
            "Bercak 170.jpg\n",
            "Bercak 224.jpg\n",
            "Bercak 213.jpg\n",
            "Bercak 39.jpg\n",
            "Bercak 147.jpg\n",
            "Bercak 185.jpg\n",
            "Bercak 160.jpg\n",
            "Bercak 9.jpg\n",
            "Bercak 174.jpg\n",
            "Bercak 173.jpg\n",
            "Bercak 204.jpg\n",
            "Bercak 81.jpg\n",
            "Bercak 164.jpg\n",
            "Bercak 78.jpg\n",
            "Bercak 156.jpg\n",
            "Bercak 105.jpg\n",
            "Bercak 57.jpg\n",
            "Bercak 108.jpg\n",
            "Bercak 191.jpg\n",
            "Bercak 52.jpg\n",
            "Bercak 62.jpg\n",
            "Bercak 149.jpg\n",
            "Bercak 1.jpg\n",
            "Bercak 168.jpg\n",
            "Bercak 20.jpg\n",
            "Bercak 56.jpg\n",
            "Bercak 114.jpg\n",
            "Bercak 161.jpg\n",
            "Bercak 166.jpg\n",
            "Bercak 210.jpg\n",
            "Bercak 49.jpg\n",
            "Bercak 189.jpg\n",
            "Bercak 152.jpg\n",
            "Bercak 196.jpg\n",
            "Bercak 60.jpg\n",
            "Bercak 34.jpg\n",
            "Bercak 128.jpg\n",
            "Bercak 82.jpg\n",
            "Bercak 179.jpg\n",
            "Bercak 124.jpg\n",
            "Bercak 138.jpg\n",
            "Bercak 90.jpg\n",
            "Bercak 223.jpg\n",
            "Bercak 85.jpg\n",
            "Bercak 209.jpg\n",
            "Bercak 104.jpg\n",
            "Bercak 109.jpg\n",
            "Bercak 33.jpg\n",
            "Bercak 150.jpg\n",
            "Bercak 131.jpg\n",
            "Bercak 202.jpg\n",
            "Bercak 32.jpg\n",
            "Bercak 43.jpg\n",
            "Bercak 167.jpg\n",
            "Bercak 159.jpg\n",
            "Bercak 127.jpg\n",
            "Bercak 71.jpg\n",
            "Bercak 123.jpg\n",
            "Bercak 220.jpg\n",
            "Bercak 119.jpg\n",
            "Bercak 198.jpg\n",
            "Bercak 53.jpg\n",
            "Bercak 102.jpg\n",
            "Bercak 158.jpg\n",
            "Bercak 208.jpg\n",
            "Bercak 68.jpg\n",
            "Bercak 22.jpg\n",
            "Bercak 126.jpg\n",
            "Bercak 79.jpg\n",
            "Bercak 163.jpg\n",
            "Bercak 64.jpg\n",
            "Bercak 187.jpg\n",
            "Bercak 130.jpg\n",
            "Bercak 143.jpg\n",
            "Bercak 129.jpg\n",
            "Bercak 137.jpg\n"
          ]
        }
      ]
    },
    {
      "cell_type": "code",
      "source": [
        "len(train_data)"
      ],
      "metadata": {
        "colab": {
          "base_uri": "https://localhost:8080/"
        },
        "id": "kKUraabgsL_p",
        "outputId": "467a98ad-f077-4a09-bd18-5f50944da396"
      },
      "execution_count": 13,
      "outputs": [
        {
          "output_type": "execute_result",
          "data": {
            "text/plain": [
              "240"
            ]
          },
          "metadata": {},
          "execution_count": 13
        }
      ]
    },
    {
      "cell_type": "code",
      "metadata": {
        "id": "FuoKFhhVEG_O"
      },
      "source": [
        "# Gather data validation\n",
        "val_data = []\n",
        "val_label = []\n",
        "for r, d, f in os.walk(validasi_normal_dir):\n",
        "    for file in f:\n",
        "        if \".jpg\" in file:\n",
        "            imagePath = os.path.join(r, file)\n",
        "            image = cv2.imread(imagePath)\n",
        "            image = cv2.resize(image, (150,150))\n",
        "            val_data.append(image)\n",
        "            label = imagePath.split(os.path.sep)[-3]\n",
        "            val_label.append(label)\n",
        "\n",
        "for r, d, f in os.walk(validasi_bercak_dir):\n",
        "    for file in f:\n",
        "        if \".jpg\" in file:\n",
        "            imagePath = os.path.join(r, file)\n",
        "            image = cv2.imread(imagePath)\n",
        "            image = cv2.resize(image, (150,150))\n",
        "            val_data.append(image)\n",
        "            label = imagePath.split(os.path.sep)[-3]\n",
        "            val_label.append(label)\n",
        "\n",
        "val_data = np.array(val_data)\n",
        "val_label = np.array(val_label)"
      ],
      "execution_count": 28,
      "outputs": []
    },
    {
      "cell_type": "code",
      "source": [
        "len(val_label)"
      ],
      "metadata": {
        "colab": {
          "base_uri": "https://localhost:8080/"
        },
        "id": "HrpQziCMtCQK",
        "outputId": "248e2b68-5aad-4e26-cecc-def15d414e33"
      },
      "execution_count": 17,
      "outputs": [
        {
          "output_type": "execute_result",
          "data": {
            "text/plain": [
              "80"
            ]
          },
          "metadata": {},
          "execution_count": 17
        }
      ]
    },
    {
      "cell_type": "markdown",
      "metadata": {
        "id": "kiXbwrN3ELqv"
      },
      "source": [
        "<h3>Data Preprocessing</h3>"
      ]
    },
    {
      "cell_type": "code",
      "metadata": {
        "colab": {
          "base_uri": "https://localhost:8080/"
        },
        "id": "m5VhnvtrEI1I",
        "outputId": "eab52db1-d600-4410-961f-d65880d2bf4d"
      },
      "source": [
        "# Tampilkan shape dari data train dan data validation\n",
        "print(\"Train Data = \", train_data.shape)\n",
        "print(\"Train Label = \", train_label.shape)\n",
        "print(\"Validation Data = \", val_data.shape)\n",
        "print(\"Validation Label = \", val_label.shape)"
      ],
      "execution_count": 18,
      "outputs": [
        {
          "output_type": "stream",
          "name": "stdout",
          "text": [
            "Train Data =  (240, 150, 150, 3)\n",
            "Train Label =  (240,)\n",
            "Validation Data =  (80, 150, 150, 3)\n",
            "Validation Label =  (80,)\n"
          ]
        }
      ]
    },
    {
      "cell_type": "code",
      "metadata": {
        "colab": {
          "base_uri": "https://localhost:8080/"
        },
        "id": "q1LVp6dCENne",
        "outputId": "013a4cf7-0b83-4c8b-c7a8-e880ab912ffd"
      },
      "source": [
        "# Normalisasi dataset\n",
        "print(\"Data sebelum di-normalisasi \", train_data[0][0][0])\n",
        "\n",
        "x_train = train_data.astype('float32') / 255.0\n",
        "x_val = val_data.astype('float32') / 255.0\n",
        "print(\"Data setelah di-normalisasi \", x_train[0][0][0])"
      ],
      "execution_count": 29,
      "outputs": [
        {
          "output_type": "stream",
          "name": "stdout",
          "text": [
            "Data sebelum di-normalisasi  [255 245 243]\n",
            "Data setelah di-normalisasi  [1.        0.9607843 0.9529412]\n"
          ]
        }
      ]
    },
    {
      "cell_type": "code",
      "metadata": {
        "colab": {
          "base_uri": "https://localhost:8080/"
        },
        "id": "tc7FivC6EPhm",
        "outputId": "c7f788f4-cbf5-4dcb-88ca-8c61f3355c9f"
      },
      "source": [
        "# Transformasi label encoder\n",
        "from sklearn.preprocessing import LabelEncoder\n",
        "\n",
        "print(\"Label sebelum di-encoder \", train_label[10:20])\n",
        "\n",
        "lb = LabelEncoder()\n",
        "y_train = lb.fit_transform(train_label)\n",
        "y_val = lb.fit_transform(val_label)\n",
        "\n",
        "print(\"Label setelah di-encoder \", y_train[10:20])"
      ],
      "execution_count": 33,
      "outputs": [
        {
          "output_type": "stream",
          "name": "stdout",
          "text": [
            "Label sebelum di-encoder  ['normal' 'normal' 'normal' 'normal' 'normal' 'bercak' 'bercak' 'bercak'\n",
            " 'bercak' 'bercak']\n",
            "Label setelah di-encoder  [1 1 1 1 1 0 0 0 0 0]\n"
          ]
        }
      ]
    },
    {
      "cell_type": "markdown",
      "metadata": {
        "id": "4jVWbOhOEzQJ"
      },
      "source": [
        "<h3>Definisikan Model</h3>"
      ]
    },
    {
      "cell_type": "code",
      "metadata": {
        "id": "usLiFiwAEvVb"
      },
      "source": [
        "from tensorflow.keras.models import Sequential\n",
        "from tensorflow.keras.layers import InputLayer, Dense, Conv2D, MaxPool2D, Flatten"
      ],
      "execution_count": 34,
      "outputs": []
    },
    {
      "cell_type": "code",
      "metadata": {
        "id": "rDwzxacpE1ei"
      },
      "source": [
        "# Feature Extraction Layer\n",
        "model = Sequential()\n",
        "\n",
        "model.add(InputLayer(input_shape=[150,150,3]))\n",
        "model.add(Conv2D(filters=16, kernel_size=3, strides=1, padding='same', activation='relu'))\n",
        "model.add(MaxPool2D(pool_size=2, padding='same'))\n",
        "model.add(Conv2D(filters=32, kernel_size=3, strides=1, padding='same', activation='relu'))\n",
        "model.add(MaxPool2D(pool_size=2, padding='same'))\n",
        "model.add(Conv2D(filters=64, kernel_size=3, strides=1, padding='same', activation='relu'))\n",
        "model.add(MaxPool2D(pool_size=2, padding='same'))\n",
        "model.add(Flatten())"
      ],
      "execution_count": 35,
      "outputs": []
    },
    {
      "cell_type": "code",
      "metadata": {
        "id": "Sud1AUF0E2k8"
      },
      "source": [
        "# Fully Connected Layer\n",
        "model.add(Dense(128, activation='relu'))\n",
        "model.add(Dense(1, activation='sigmoid'))"
      ],
      "execution_count": 36,
      "outputs": []
    },
    {
      "cell_type": "code",
      "metadata": {
        "colab": {
          "base_uri": "https://localhost:8080/"
        },
        "id": "XW-KE9ePE466",
        "outputId": "ab128cc2-d26e-4024-e2a1-a99d208dbe4b"
      },
      "source": [
        "# Print model summary\n",
        "print(model.summary())"
      ],
      "execution_count": 37,
      "outputs": [
        {
          "output_type": "stream",
          "name": "stdout",
          "text": [
            "Model: \"sequential\"\n",
            "_________________________________________________________________\n",
            " Layer (type)                Output Shape              Param #   \n",
            "=================================================================\n",
            " conv2d (Conv2D)             (None, 150, 150, 16)      448       \n",
            "                                                                 \n",
            " max_pooling2d (MaxPooling2D  (None, 75, 75, 16)       0         \n",
            " )                                                               \n",
            "                                                                 \n",
            " conv2d_1 (Conv2D)           (None, 75, 75, 32)        4640      \n",
            "                                                                 \n",
            " max_pooling2d_1 (MaxPooling  (None, 38, 38, 32)       0         \n",
            " 2D)                                                             \n",
            "                                                                 \n",
            " conv2d_2 (Conv2D)           (None, 38, 38, 64)        18496     \n",
            "                                                                 \n",
            " max_pooling2d_2 (MaxPooling  (None, 19, 19, 64)       0         \n",
            " 2D)                                                             \n",
            "                                                                 \n",
            " flatten (Flatten)           (None, 23104)             0         \n",
            "                                                                 \n",
            " dense (Dense)               (None, 128)               2957440   \n",
            "                                                                 \n",
            " dense_1 (Dense)             (None, 1)                 129       \n",
            "                                                                 \n",
            "=================================================================\n",
            "Total params: 2,981,153\n",
            "Trainable params: 2,981,153\n",
            "Non-trainable params: 0\n",
            "_________________________________________________________________\n",
            "None\n"
          ]
        }
      ]
    },
    {
      "cell_type": "code",
      "metadata": {
        "colab": {
          "base_uri": "https://localhost:8080/"
        },
        "id": "Tais64D7E5Zo",
        "outputId": "3247afe7-1be6-41f3-a778-e1bf61bb5682"
      },
      "source": [
        "# Compile model\n",
        "from tensorflow.keras.optimizers import Adam\n",
        "\n",
        "model.compile(optimizer=Adam(lr=0.001), \n",
        "              loss='binary_crossentropy', \n",
        "              metrics=['acc'])"
      ],
      "execution_count": 38,
      "outputs": [
        {
          "output_type": "stream",
          "name": "stderr",
          "text": [
            "/usr/local/lib/python3.7/dist-packages/keras/optimizer_v2/adam.py:105: UserWarning: The `lr` argument is deprecated, use `learning_rate` instead.\n",
            "  super(Adam, self).__init__(name, **kwargs)\n"
          ]
        }
      ]
    },
    {
      "cell_type": "markdown",
      "metadata": {
        "id": "NTNBH19iE8kt"
      },
      "source": [
        "<h3>Training Model</h3>"
      ]
    },
    {
      "cell_type": "code",
      "metadata": {
        "colab": {
          "base_uri": "https://localhost:8080/"
        },
        "id": "p4Vr8dyvE6pM",
        "outputId": "d2c54961-38c1-46cc-cfd8-6d01f8d04e78"
      },
      "source": [
        "H = model.fit(x_train, y_train, batch_size=20, epochs=15, validation_data=(x_val, y_val))"
      ],
      "execution_count": 53,
      "outputs": [
        {
          "output_type": "stream",
          "name": "stdout",
          "text": [
            "Epoch 1/15\n",
            "12/12 [==============================] - 6s 485ms/step - loss: 2.3279e-06 - acc: 1.0000 - val_loss: 0.4560 - val_acc: 0.9000\n",
            "Epoch 2/15\n",
            "12/12 [==============================] - 6s 476ms/step - loss: 2.0853e-06 - acc: 1.0000 - val_loss: 0.4480 - val_acc: 0.9000\n",
            "Epoch 3/15\n",
            "12/12 [==============================] - 6s 493ms/step - loss: 2.0592e-06 - acc: 1.0000 - val_loss: 0.4444 - val_acc: 0.9000\n",
            "Epoch 4/15\n",
            "12/12 [==============================] - 6s 477ms/step - loss: 1.9778e-06 - acc: 1.0000 - val_loss: 0.4521 - val_acc: 0.9000\n",
            "Epoch 5/15\n",
            "12/12 [==============================] - 6s 476ms/step - loss: 1.9248e-06 - acc: 1.0000 - val_loss: 0.4583 - val_acc: 0.9000\n",
            "Epoch 6/15\n",
            "12/12 [==============================] - 6s 475ms/step - loss: 1.8244e-06 - acc: 1.0000 - val_loss: 0.4501 - val_acc: 0.9000\n",
            "Epoch 7/15\n",
            "12/12 [==============================] - 6s 475ms/step - loss: 1.7662e-06 - acc: 1.0000 - val_loss: 0.4566 - val_acc: 0.9000\n",
            "Epoch 8/15\n",
            "12/12 [==============================] - 6s 477ms/step - loss: 1.7091e-06 - acc: 1.0000 - val_loss: 0.4657 - val_acc: 0.8750\n",
            "Epoch 9/15\n",
            "12/12 [==============================] - 6s 476ms/step - loss: 1.6548e-06 - acc: 1.0000 - val_loss: 0.4553 - val_acc: 0.9000\n",
            "Epoch 10/15\n",
            "12/12 [==============================] - 6s 476ms/step - loss: 1.6264e-06 - acc: 1.0000 - val_loss: 0.4560 - val_acc: 0.9000\n",
            "Epoch 11/15\n",
            "12/12 [==============================] - 6s 478ms/step - loss: 1.5209e-06 - acc: 1.0000 - val_loss: 0.4665 - val_acc: 0.8875\n",
            "Epoch 12/15\n",
            "12/12 [==============================] - 6s 478ms/step - loss: 1.4731e-06 - acc: 1.0000 - val_loss: 0.4648 - val_acc: 0.9000\n",
            "Epoch 13/15\n",
            "12/12 [==============================] - 6s 474ms/step - loss: 1.4158e-06 - acc: 1.0000 - val_loss: 0.4598 - val_acc: 0.9000\n",
            "Epoch 14/15\n",
            "12/12 [==============================] - 8s 660ms/step - loss: 1.3801e-06 - acc: 1.0000 - val_loss: 0.4634 - val_acc: 0.9000\n",
            "Epoch 15/15\n",
            "12/12 [==============================] - 6s 479ms/step - loss: 1.3358e-06 - acc: 1.0000 - val_loss: 0.4703 - val_acc: 0.8875\n"
          ]
        }
      ]
    },
    {
      "cell_type": "markdown",
      "metadata": {
        "id": "HuxjW35RFCZ6"
      },
      "source": [
        "<h3>Evaluasi Model</h3>"
      ]
    },
    {
      "cell_type": "code",
      "metadata": {
        "colab": {
          "base_uri": "https://localhost:8080/",
          "height": 299
        },
        "id": "1AM3ms3zE_AU",
        "outputId": "5801cd55-63d3-4bad-d3de-3e0533cd95fa"
      },
      "source": [
        "%matplotlib inline\n",
        "\n",
        "import matplotlib.pyplot as plt\n",
        "\n",
        "plt.style.use(\"ggplot\")\n",
        "plt.figure()\n",
        "plt.plot(np.arange(0, 15), H.history[\"loss\"], label=\"train_loss\")\n",
        "plt.plot(np.arange(0, 15), H.history[\"val_loss\"], label=\"val_loss\")\n",
        "plt.title(\"Loss Plot\")\n",
        "plt.xlabel(\"Epoch #\")\n",
        "plt.ylabel(\"Loss\")\n",
        "plt.legend()\n",
        "plt.show()"
      ],
      "execution_count": 54,
      "outputs": [
        {
          "output_type": "display_data",
          "data": {
            "text/plain": [
              "<Figure size 432x288 with 1 Axes>"
            ],
            "image/png": "[encoded data removed]"
          },
          "metadata": {}
        }
      ]
    },
    {
      "cell_type": "code",
      "metadata": {
        "colab": {
          "base_uri": "https://localhost:8080/",
          "height": 299
        },
        "id": "q1SJWudcFEDL",
        "outputId": "0c8774ba-e808-4d0c-8674-8cd54ddf0c06"
      },
      "source": [
        "plt.style.use(\"ggplot\")\n",
        "plt.figure()\n",
        "plt.plot(np.arange(0, 15), H.history[\"acc\"], label=\"train_acc\")\n",
        "plt.plot(np.arange(0, 15), H.history[\"val_acc\"], label=\"val_acc\")\n",
        "plt.title(\"Accuracy Plot\")\n",
        "plt.xlabel(\"Epoch #\")\n",
        "plt.ylabel(\"Acc\")\n",
        "plt.legend()\n",
        "plt.show()"
      ],
      "execution_count": 55,
      "outputs": [
        {
          "output_type": "display_data",
          "data": {
            "text/plain": [
              "<Figure size 432x288 with 1 Axes>"
            ],
            "image/png": "[encoded data removed]"
          },
          "metadata": {}
        }
      ]
    },
    {
      "cell_type": "code",
      "metadata": {
        "colab": {
          "base_uri": "https://localhost:8080/"
        },
        "id": "H_8mB3igFG-x",
        "outputId": "3088fd2a-d3ee-4f73-84c4-0aa42df77e81"
      },
      "source": [
        "from sklearn.metrics import classification_report\n",
        "\n",
        "pred = model.predict(x_val)\n",
        "labels = (pred > 0.5).astype(np.int)\n",
        "\n",
        "print(classification_report(y_val, labels))"
      ],
      "execution_count": 51,
      "outputs": [
        {
          "output_type": "stream",
          "name": "stdout",
          "text": [
            "              precision    recall  f1-score   support\n",
            "\n",
            "           0       0.96      0.93      0.95        75\n",
            "           1       0.29      0.40      0.33         5\n",
            "\n",
            "    accuracy                           0.90        80\n",
            "   macro avg       0.62      0.67      0.64        80\n",
            "weighted avg       0.92      0.90      0.91        80\n",
            "\n"
          ]
        },
        {
          "output_type": "stream",
          "name": "stderr",
          "text": [
            "/usr/local/lib/python3.7/dist-packages/ipykernel_launcher.py:4: DeprecationWarning: `np.int` is a deprecated alias for the builtin `int`. To silence this warning, use `int` by itself. Doing this will not modify any behavior and is safe. When replacing `np.int`, you may wish to use e.g. `np.int64` or `np.int32` to specify the precision. If you wish to review your current use, check the release note link for additional information.\n",
            "Deprecated in NumPy 1.20; for more details and guidance: https://numpy.org/devdocs/release/1.20.0-notes.html#deprecations\n",
            "  after removing the cwd from sys.path.\n"
          ]
        }
      ]
    }
  ]
}